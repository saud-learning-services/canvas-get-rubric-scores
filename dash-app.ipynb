{
 "cells": [
  {
   "cell_type": "code",
   "execution_count": null,
   "id": "855679dd",
   "metadata": {
    "scrolled": false
   },
   "outputs": [],
   "source": [
    "import os\n",
    "import sys\n",
    "module_path = os.path.abspath(os.path.join('src/'))\n",
    "if module_path not in sys.path:\n",
    "    sys.path.append(module_path)\n",
    "from rubric_assessment_app import app\n",
    "app()"
   ]
  },
  {
   "cell_type": "code",
   "execution_count": null,
   "id": "f80e6312",
   "metadata": {},
   "outputs": [],
   "source": [
    "from initial_requests import get_initial_info\n",
    "from rubric_assessment_app import GRAPH_URL, KEY\n",
    "\n",
    "data = get_initial_info(GRAPH_URL, 5433, KEY)\n"
   ]
  },
  {
   "cell_type": "code",
   "execution_count": null,
   "id": "0cc4a15f",
   "metadata": {},
   "outputs": [],
   "source": [
    "data['data']['course']['assignmentsConnection']['nodes']"
   ]
  },
  {
   "cell_type": "code",
   "execution_count": null,
   "id": "8a06465b",
   "metadata": {},
   "outputs": [],
   "source": [
    "data['data']"
   ]
  },
  {
   "cell_type": "code",
   "execution_count": null,
   "id": "3cba82a3",
   "metadata": {},
   "outputs": [],
   "source": []
  }
 ],
 "metadata": {
  "kernelspec": {
   "display_name": "Python 3 (ipykernel)",
   "language": "python",
   "name": "python3"
  },
  "language_info": {
   "codemirror_mode": {
    "name": "ipython",
    "version": 3
   },
   "file_extension": ".py",
   "mimetype": "text/x-python",
   "name": "python",
   "nbconvert_exporter": "python",
   "pygments_lexer": "ipython3",
   "version": "3.10.4"
  }
 },
 "nbformat": 4,
 "nbformat_minor": 5
}
