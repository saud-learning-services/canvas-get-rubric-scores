{
 "cells": [
  {
   "cell_type": "markdown",
   "id": "e8bb68ad",
   "metadata": {},
   "source": [
    "# Use\n",
    "\n",
    "1. Ensure you have a .env file with your `API_TOKEN` and `API_INSTANCE`. This should be saved in the project folder \"Canvas-get-rubrics\" (i.e. where this Jupyter notebook is). At UBC the API_INSTANCE can be 'https://canvas.ubc.ca'\n",
    "\n",
    "\n",
    "```\n",
    "API_TOKEN = 'yourTokenHere'\n",
    "API_INSTANCE = 'yourInstanceHere' \n",
    "```\n",
    "\n",
    "\n",
    "2. Above - select Kernel -> Restart and Run All\n",
    "\n",
    "3. Enter the desired information and follow the prompts. \n",
    "\n",
    "NOTE - there are still updates to be made, for instance, when you change from an assignment with submissions to one without, you will see the old data being displayed.\n",
    "\n",
    "4. When you are done, I suggest selecting Kernel -> Restart & Clear Output (so you have a clean starting point next time).\n"
   ]
  },
  {
   "cell_type": "code",
   "execution_count": null,
   "id": "855679dd",
   "metadata": {
    "scrolled": false
   },
   "outputs": [],
   "source": [
    "import os\n",
    "import sys\n",
    "module_path = os.path.abspath(os.path.join('src/'))\n",
    "if module_path not in sys.path:\n",
    "    sys.path.append(module_path)\n",
    "from rubric_assessment_app import app\n",
    "app()"
   ]
  }
 ],
 "metadata": {
  "kernelspec": {
   "display_name": "Python 3 (ipykernel)",
   "language": "python",
   "name": "python3"
  },
  "language_info": {
   "codemirror_mode": {
    "name": "ipython",
    "version": 3
   },
   "file_extension": ".py",
   "mimetype": "text/x-python",
   "name": "python",
   "nbconvert_exporter": "python",
   "pygments_lexer": "ipython3",
   "version": "3.10.4"
  }
 },
 "nbformat": 4,
 "nbformat_minor": 5
}
