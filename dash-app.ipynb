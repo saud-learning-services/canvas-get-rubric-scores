{
 "cells": [
  {
   "cell_type": "code",
   "execution_count": 1,
   "id": "855679dd",
   "metadata": {
    "scrolled": false
   },
   "outputs": [
    {
     "name": "stdout",
     "output_type": "stream",
     "text": [
      "https://canvas.ubc.ca/api/graphql\n",
      "\u001b[32m\n",
      "Token Valid: Alison Myers (185698)\n",
      "\u001b[0m\n"
     ]
    },
    {
     "data": {
      "text/html": [
       "\n",
       "        <iframe\n",
       "            width=\"100%\"\n",
       "            height=\"650\"\n",
       "            src=\"http://127.0.0.1:8050/\"\n",
       "            frameborder=\"0\"\n",
       "            allowfullscreen\n",
       "            \n",
       "        ></iframe>\n",
       "        "
      ],
      "text/plain": [
       "<IPython.lib.display.IFrame at 0x161857ee0>"
      ]
     },
     "metadata": {},
     "output_type": "display_data"
    },
    {
     "name": "stdout",
     "output_type": "stream",
     "text": [
      "\u001b[1;31m---------------------------------------------------------------------------\u001b[0m\n",
      "\u001b[1;31mSchemaTypeValidationError\u001b[0m                 Traceback (most recent call last)\n",
      "File \u001b[1;32m~/opt/miniconda3/envs/canvas-create-group-peer-reviews/lib/python3.10/site-packages/flask/app.py:1523\u001b[0m, in \u001b[0;36mFlask.full_dispatch_request\u001b[1;34m(self=<Flask 'rubric_assessment_app'>)\u001b[0m\n",
      "\u001b[0;32m   1521\u001b[0m     rv \u001b[38;5;241m=\u001b[39m \u001b[38;5;28mself\u001b[39m\u001b[38;5;241m.\u001b[39mpreprocess_request()\n",
      "\u001b[0;32m   1522\u001b[0m     \u001b[38;5;28;01mif\u001b[39;00m rv \u001b[38;5;129;01mis\u001b[39;00m \u001b[38;5;28;01mNone\u001b[39;00m:\n",
      "\u001b[1;32m-> 1523\u001b[0m         rv \u001b[38;5;241m=\u001b[39m \u001b[38;5;28;43mself\u001b[39;49m\u001b[38;5;241;43m.\u001b[39;49m\u001b[43mdispatch_request\u001b[49m\u001b[43m(\u001b[49m\u001b[43m)\u001b[49m\n",
      "        rv \u001b[1;34m= None\u001b[0m\u001b[1;34m\n",
      "        \u001b[0mself \u001b[1;34m= <Flask 'rubric_assessment_app'>\u001b[0m\n",
      "\u001b[0;32m   1524\u001b[0m \u001b[38;5;28;01mexcept\u001b[39;00m \u001b[38;5;167;01mException\u001b[39;00m \u001b[38;5;28;01mas\u001b[39;00m e:\n",
      "\u001b[0;32m   1525\u001b[0m     rv \u001b[38;5;241m=\u001b[39m \u001b[38;5;28mself\u001b[39m\u001b[38;5;241m.\u001b[39mhandle_user_exception(e)\n",
      "\n",
      "File \u001b[1;32m~/opt/miniconda3/envs/canvas-create-group-peer-reviews/lib/python3.10/site-packages/flask/app.py:1509\u001b[0m, in \u001b[0;36mFlask.dispatch_request\u001b[1;34m(self=<Flask 'rubric_assessment_app'>)\u001b[0m\n",
      "\u001b[0;32m   1507\u001b[0m     \u001b[38;5;28;01mreturn\u001b[39;00m \u001b[38;5;28mself\u001b[39m\u001b[38;5;241m.\u001b[39mmake_default_options_response()\n",
      "\u001b[0;32m   1508\u001b[0m \u001b[38;5;66;03m# otherwise dispatch to the handler for that endpoint\u001b[39;00m\n",
      "\u001b[1;32m-> 1509\u001b[0m \u001b[38;5;28;01mreturn\u001b[39;00m \u001b[38;5;28;43mself\u001b[39;49m\u001b[38;5;241;43m.\u001b[39;49m\u001b[43mensure_sync\u001b[49m\u001b[43m(\u001b[49m\u001b[38;5;28;43mself\u001b[39;49m\u001b[38;5;241;43m.\u001b[39;49m\u001b[43mview_functions\u001b[49m\u001b[43m[\u001b[49m\u001b[43mrule\u001b[49m\u001b[38;5;241;43m.\u001b[39;49m\u001b[43mendpoint\u001b[49m\u001b[43m]\u001b[49m\u001b[43m)\u001b[49m\u001b[43m(\u001b[49m\u001b[38;5;241;43m*\u001b[39;49m\u001b[38;5;241;43m*\u001b[39;49m\u001b[43mreq\u001b[49m\u001b[38;5;241;43m.\u001b[39;49m\u001b[43mview_args\u001b[49m\u001b[43m)\u001b[49m\n",
      "        req \u001b[1;34m= <Request 'http://127.0.0.1:8050/_dash-update-component' [POST]>\u001b[0m\u001b[1;34m\n",
      "        \u001b[0mrule \u001b[1;34m= <Rule '/_dash-update-component' (POST, OPTIONS) -> /_dash-update-component>\u001b[0m\u001b[1;34m\n",
      "        \u001b[0mself.view_functions[rule.endpoint] \u001b[1;34m= <bound method Dash.dispatch of <jupyter_dash.jupyter_app.JupyterDash object at 0x10cd6af50>>\u001b[0m\u001b[1;34m\n",
      "        \u001b[0mreq.view_args \u001b[1;34m= {}\u001b[0m\u001b[1;34m\n",
      "        \u001b[0mself \u001b[1;34m= <Flask 'rubric_assessment_app'>\u001b[0m\u001b[1;34m\n",
      "        \u001b[0mself.view_functions \u001b[1;34m= {'static': <function Flask.__init__.<locals>.<lambda> at 0x161874430>, '_dash_assets.static': <bound method Scaffold.send_static_file of <Blueprint '_dash_assets'>>, '/_dash-component-suites/<string:package_name>/<path:fingerprinted_path>': <bound method Dash.serve_component_suites of <jupyter_dash.jupyter_app.JupyterDash object at 0x10cd6af50>>, '/_dash-layout': <bound method Dash.serve_layout of <jupyter_dash.jupyter_app.JupyterDash object at 0x10cd6af50>>, '/_dash-dependencies': <bound method Dash.dependencies of <jupyter_dash.jupyter_app.JupyterDash object at 0x10cd6af50>>, '/_dash-update-component': <bound method Dash.dispatch of <jupyter_dash.jupyter_app.JupyterDash object at 0x10cd6af50>>, '/_reload-hash': <bound method Dash.serve_reload_hash of <jupyter_dash.jupyter_app.JupyterDash object at 0x10cd6af50>>, '/_favicon.ico': <function Dash._serve_default_favicon at 0x1617e7010>, '/': <bound method Dash.index of <jupyter_dash.jupyter_app.JupyterDash object at 0x10cd6af50>>, '/<path:path>': <bound method Dash.index of <jupyter_dash.jupyter_app.JupyterDash object at 0x10cd6af50>>, 'alive': <function JupyterDash.__init__.<locals>.alive at 0x1618745e0>}\u001b[0m\u001b[1;34m\n",
      "        \u001b[0mrule.endpoint \u001b[1;34m= '/_dash-update-component'\u001b[0m\n",
      "\n",
      "File \u001b[1;32m~/opt/miniconda3/envs/canvas-create-group-peer-reviews/lib/python3.10/site-packages/dash/dash.py:1372\u001b[0m, in \u001b[0;36mDash.dispatch\u001b[1;34m(\n",
      "    self=<jupyter_dash.jupyter_app.JupyterDash object>\n",
      ")\u001b[0m\n",
      "\u001b[0;32m   1370\u001b[0m     msg \u001b[38;5;241m=\u001b[39m \u001b[38;5;124mf\u001b[39m\u001b[38;5;124m\"\u001b[39m\u001b[38;5;124mCallback function not found for output \u001b[39m\u001b[38;5;124m'\u001b[39m\u001b[38;5;132;01m{\u001b[39;00moutput\u001b[38;5;132;01m}\u001b[39;00m\u001b[38;5;124m'\u001b[39m\u001b[38;5;124m, perhaps you forgot to prepend the \u001b[39m\u001b[38;5;124m'\u001b[39m\u001b[38;5;124m@\u001b[39m\u001b[38;5;124m'\u001b[39m\u001b[38;5;124m?\u001b[39m\u001b[38;5;124m\"\u001b[39m\n",
      "\u001b[0;32m   1371\u001b[0m     \u001b[38;5;28;01mraise\u001b[39;00m \u001b[38;5;167;01mKeyError\u001b[39;00m(msg) \u001b[38;5;28;01mfrom\u001b[39;00m \u001b[38;5;21;01mmissing_callback_function\u001b[39;00m\n",
      "\u001b[1;32m-> 1372\u001b[0m response\u001b[38;5;241m.\u001b[39mset_data(\u001b[43mfunc\u001b[49m\u001b[43m(\u001b[49m\u001b[38;5;241;43m*\u001b[39;49m\u001b[43margs\u001b[49m\u001b[43m,\u001b[49m\u001b[43m \u001b[49m\u001b[43moutputs_list\u001b[49m\u001b[38;5;241;43m=\u001b[39;49m\u001b[43moutputs_list\u001b[49m\u001b[43m)\u001b[49m)\n",
      "        outputs_list \u001b[1;34m= [{'id': 'confirmed-course', 'property': 'children'}, {'id': 'course-data', 'property': 'data'}]\u001b[0m\u001b[1;34m\n",
      "        \u001b[0mresponse \u001b[1;34m= <Response 0 bytes [200 OK]>\u001b[0m\u001b[1;34m\n",
      "        \u001b[0margs \u001b[1;34m= [0, 10456]\u001b[0m\u001b[1;34m\n",
      "        \u001b[0mfunc \u001b[1;34m= <function app.<locals>.the_course_has_been_confirmed at 0x1618757e0>\u001b[0m\n",
      "\u001b[0;32m   1373\u001b[0m \u001b[38;5;28;01mreturn\u001b[39;00m response\n",
      "\n",
      "File \u001b[1;32m~/opt/miniconda3/envs/canvas-create-group-peer-reviews/lib/python3.10/site-packages/dash/_callback.py:166\u001b[0m, in \u001b[0;36mregister_callback.<locals>.wrap_func.<locals>.add_context\u001b[1;34m(*args=(0, 10456), **kwargs={})\u001b[0m\n",
      "\u001b[0;32m    163\u001b[0m         output_value \u001b[38;5;241m=\u001b[39m \u001b[38;5;28mlist\u001b[39m(output_value)\n",
      "\u001b[0;32m    165\u001b[0m     \u001b[38;5;66;03m# Flatten grouping and validate grouping structure\u001b[39;00m\n",
      "\u001b[1;32m--> 166\u001b[0m     flat_output_values \u001b[38;5;241m=\u001b[39m \u001b[43mflatten_grouping\u001b[49m\u001b[43m(\u001b[49m\u001b[43moutput_value\u001b[49m\u001b[43m,\u001b[49m\u001b[43m \u001b[49m\u001b[43moutput\u001b[49m\u001b[43m)\u001b[49m\n",
      "        output_value \u001b[1;34m= None\u001b[0m\u001b[1;34m\n",
      "        \u001b[0moutput \u001b[1;34m= [<Output `confirmed-course.children`>, <Output `course-data.data`>]\u001b[0m\n",
      "\u001b[0;32m    168\u001b[0m _validate\u001b[38;5;241m.\u001b[39mvalidate_multi_return(\n",
      "\u001b[0;32m    169\u001b[0m     output_spec, flat_output_values, callback_id\n",
      "\u001b[0;32m    170\u001b[0m )\n",
      "\u001b[0;32m    172\u001b[0m component_ids \u001b[38;5;241m=\u001b[39m collections\u001b[38;5;241m.\u001b[39mdefaultdict(\u001b[38;5;28mdict\u001b[39m)\n",
      "\n",
      "File \u001b[1;32m~/opt/miniconda3/envs/canvas-create-group-peer-reviews/lib/python3.10/site-packages/dash/_grouping.py:35\u001b[0m, in \u001b[0;36mflatten_grouping\u001b[1;34m(\n",
      "    grouping=None,\n",
      "    schema=[<Output `confirmed-course.children`>, <Output `course-data.data`>]\n",
      ")\u001b[0m\n",
      "\u001b[0;32m     33\u001b[0m     schema \u001b[38;5;241m=\u001b[39m grouping\n",
      "\u001b[0;32m     34\u001b[0m \u001b[38;5;28;01melse\u001b[39;00m:\n",
      "\u001b[1;32m---> 35\u001b[0m     \u001b[43mvalidate_grouping\u001b[49m\u001b[43m(\u001b[49m\u001b[43mgrouping\u001b[49m\u001b[43m,\u001b[49m\u001b[43m \u001b[49m\u001b[43mschema\u001b[49m\u001b[43m)\u001b[49m\n",
      "        schema \u001b[1;34m= [<Output `confirmed-course.children`>, <Output `course-data.data`>]\u001b[0m\u001b[1;34m\n",
      "        \u001b[0mgrouping \u001b[1;34m= None\u001b[0m\n",
      "\u001b[0;32m     37\u001b[0m \u001b[38;5;28;01mif\u001b[39;00m \u001b[38;5;28misinstance\u001b[39m(schema, (\u001b[38;5;28mtuple\u001b[39m, \u001b[38;5;28mlist\u001b[39m)):\n",
      "\u001b[0;32m     38\u001b[0m     \u001b[38;5;28;01mreturn\u001b[39;00m [\n",
      "\u001b[0;32m     39\u001b[0m         g\n",
      "\u001b[0;32m     40\u001b[0m         \u001b[38;5;28;01mfor\u001b[39;00m group_el, schema_el \u001b[38;5;129;01min\u001b[39;00m \u001b[38;5;28mzip\u001b[39m(grouping, schema)\n",
      "\u001b[0;32m     41\u001b[0m         \u001b[38;5;28;01mfor\u001b[39;00m g \u001b[38;5;129;01min\u001b[39;00m flatten_grouping(group_el, schema_el)\n",
      "\u001b[0;32m     42\u001b[0m     ]\n",
      "\n",
      "File \u001b[1;32m~/opt/miniconda3/envs/canvas-create-group-peer-reviews/lib/python3.10/site-packages/dash/_grouping.py:210\u001b[0m, in \u001b[0;36mvalidate_grouping\u001b[1;34m(\n",
      "    grouping=None,\n",
      "    schema=[<Output `confirmed-course.children`>, <Output `course-data.data`>],\n",
      "    full_schema=[<Output `confirmed-course.children`>, <Output `course-data.data`>],\n",
      "    path=()\n",
      ")\u001b[0m\n",
      "\u001b[0;32m    207\u001b[0m     full_schema \u001b[38;5;241m=\u001b[39m schema\n",
      "\u001b[0;32m    209\u001b[0m \u001b[38;5;28;01mif\u001b[39;00m \u001b[38;5;28misinstance\u001b[39m(schema, (\u001b[38;5;28mtuple\u001b[39m, \u001b[38;5;28mlist\u001b[39m)):\n",
      "\u001b[1;32m--> 210\u001b[0m     \u001b[43mSchemaTypeValidationError\u001b[49m\u001b[38;5;241;43m.\u001b[39;49m\u001b[43mcheck\u001b[49m\u001b[43m(\u001b[49m\u001b[43mgrouping\u001b[49m\u001b[43m,\u001b[49m\u001b[43m \u001b[49m\u001b[43mfull_schema\u001b[49m\u001b[43m,\u001b[49m\u001b[43m \u001b[49m\u001b[43mpath\u001b[49m\u001b[43m,\u001b[49m\u001b[43m \u001b[49m\u001b[43m(\u001b[49m\u001b[38;5;28;43mtuple\u001b[39;49m\u001b[43m,\u001b[49m\u001b[43m \u001b[49m\u001b[38;5;28;43mlist\u001b[39;49m\u001b[43m)\u001b[49m\u001b[43m)\u001b[49m\n",
      "        full_schema \u001b[1;34m= [<Output `confirmed-course.children`>, <Output `course-data.data`>]\u001b[0m\u001b[1;34m\n",
      "        \u001b[0m(tuple, list) \u001b[1;34m= (<class 'tuple'>, <class 'list'>)\u001b[0m\u001b[1;34m\n",
      "        \u001b[0mgrouping \u001b[1;34m= None\u001b[0m\u001b[1;34m\n",
      "        \u001b[0mpath \u001b[1;34m= ()\u001b[0m\n",
      "\u001b[0;32m    211\u001b[0m     SchemaLengthValidationError\u001b[38;5;241m.\u001b[39mcheck(grouping, full_schema, path, \u001b[38;5;28mlen\u001b[39m(schema))\n",
      "\u001b[0;32m    213\u001b[0m     \u001b[38;5;28;01mfor\u001b[39;00m i, (g, s) \u001b[38;5;129;01min\u001b[39;00m \u001b[38;5;28menumerate\u001b[39m(\u001b[38;5;28mzip\u001b[39m(grouping, schema)):\n",
      "\n",
      "File \u001b[1;32m~/opt/miniconda3/envs/canvas-create-group-peer-reviews/lib/python3.10/site-packages/dash/_grouping.py:162\u001b[0m, in \u001b[0;36mSchemaTypeValidationError.check\u001b[1;34m(\n",
      "    cls=<class 'dash._grouping.SchemaTypeValidationError'>,\n",
      "    value=None,\n",
      "    full_schema=[<Output `confirmed-course.children`>, <Output `course-data.data`>],\n",
      "    path=(),\n",
      "    expected_type=(<class 'tuple'>, <class 'list'>)\n",
      ")\u001b[0m\n",
      "\u001b[0;32m    159\u001b[0m \u001b[38;5;129m@classmethod\u001b[39m\n",
      "\u001b[0;32m    160\u001b[0m \u001b[38;5;28;01mdef\u001b[39;00m \u001b[38;5;21mcheck\u001b[39m(\u001b[38;5;28mcls\u001b[39m, value, full_schema, path, expected_type):\n",
      "\u001b[0;32m    161\u001b[0m     \u001b[38;5;28;01mif\u001b[39;00m \u001b[38;5;129;01mnot\u001b[39;00m \u001b[38;5;28misinstance\u001b[39m(value, expected_type):\n",
      "\u001b[1;32m--> 162\u001b[0m         \u001b[38;5;28;01mraise\u001b[39;00m SchemaTypeValidationError(value, full_schema, path, expected_type)\n",
      "        value \u001b[1;34m= None\u001b[0m\u001b[1;34m\n",
      "        \u001b[0mexpected_type \u001b[1;34m= (<class 'tuple'>, <class 'list'>)\u001b[0m\u001b[1;34m\n",
      "        \u001b[0mfull_schema \u001b[1;34m= [<Output `confirmed-course.children`>, <Output `course-data.data`>]\u001b[0m\u001b[1;34m\n",
      "        \u001b[0mpath \u001b[1;34m= ()\u001b[0m\n",
      "\n",
      "\u001b[1;31mSchemaTypeValidationError\u001b[0m: Schema: [<Output `confirmed-course.children`>, <Output `course-data.data`>]\n",
      "Path: ()\n",
      "Expected type: (<class 'tuple'>, <class 'list'>)\n",
      "Received value of type <class 'NoneType'>:\n",
      "    None\n",
      "\n"
     ]
    }
   ],
   "source": [
    "import os\n",
    "import sys\n",
    "module_path = os.path.abspath(os.path.join('src/'))\n",
    "if module_path not in sys.path:\n",
    "    sys.path.append(module_path)\n",
    "from rubric_assessment_app import app\n",
    "app()"
   ]
  },
  {
   "cell_type": "code",
   "execution_count": null,
   "id": "f80e6312",
   "metadata": {},
   "outputs": [],
   "source": [
    "from initial_requests import get_initial_info\n",
    "from rubric_assessment_app import GRAPH_URL, KEY\n",
    "\n",
    "data = get_initial_info(GRAPH_URL, 5433, KEY)\n"
   ]
  },
  {
   "cell_type": "code",
   "execution_count": null,
   "id": "0cc4a15f",
   "metadata": {},
   "outputs": [],
   "source": [
    "data['data']['course']['assignmentsConnection']['nodes']"
   ]
  },
  {
   "cell_type": "code",
   "execution_count": null,
   "id": "8a06465b",
   "metadata": {},
   "outputs": [],
   "source": [
    "data['data']"
   ]
  },
  {
   "cell_type": "code",
   "execution_count": null,
   "id": "3d1f015c",
   "metadata": {},
   "outputs": [],
   "source": []
  }
 ],
 "metadata": {
  "kernelspec": {
   "display_name": "Python 3 (ipykernel)",
   "language": "python",
   "name": "python3"
  },
  "language_info": {
   "codemirror_mode": {
    "name": "ipython",
    "version": 3
   },
   "file_extension": ".py",
   "mimetype": "text/x-python",
   "name": "python",
   "nbconvert_exporter": "python",
   "pygments_lexer": "ipython3",
   "version": "3.10.4"
  }
 },
 "nbformat": 4,
 "nbformat_minor": 5
}
