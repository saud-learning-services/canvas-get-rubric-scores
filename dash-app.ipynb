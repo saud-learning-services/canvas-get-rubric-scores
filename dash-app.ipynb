{
 "cells": [
  {
   "cell_type": "code",
   "execution_count": 1,
   "id": "855679dd",
   "metadata": {},
   "outputs": [
    {
     "name": "stdout",
     "output_type": "stream",
     "text": [
      "https://canvas.ubc.ca/api/graphql\n",
      "\u001b[32m\n",
      "Token Valid: Alison Myers (185698)\n",
      "\u001b[0m\n"
     ]
    },
    {
     "data": {
      "text/html": [
       "\n",
       "        <iframe\n",
       "            width=\"100%\"\n",
       "            height=\"650\"\n",
       "            src=\"http://127.0.0.1:8050/\"\n",
       "            frameborder=\"0\"\n",
       "            allowfullscreen\n",
       "            \n",
       "        ></iframe>\n",
       "        "
      ],
      "text/plain": [
       "<IPython.lib.display.IFrame at 0x161717ee0>"
      ]
     },
     "metadata": {},
     "output_type": "display_data"
    }
   ],
   "source": [
    "import os\n",
    "import sys\n",
    "module_path = os.path.abspath(os.path.join('src/'))\n",
    "if module_path not in sys.path:\n",
    "    sys.path.append(module_path)\n",
    "from rubric_assessment_app import app\n",
    "app()"
   ]
  },
  {
   "cell_type": "code",
   "execution_count": null,
   "id": "f80e6312",
   "metadata": {},
   "outputs": [],
   "source": [
    "from initial_requests import get_initial_info\n",
    "from rubric_assessment_app import GRAPH_URL, KEY\n",
    "\n",
    "data = get_initial_info(GRAPH_URL, 10456, KEY)\n",
    "data['course']"
   ]
  },
  {
   "cell_type": "code",
   "execution_count": null,
   "id": "0cc4a15f",
   "metadata": {},
   "outputs": [],
   "source": [
    "data['data']['course']['assignmentsConnection']['nodes']"
   ]
  },
  {
   "cell_type": "code",
   "execution_count": null,
   "id": "8a06465b",
   "metadata": {},
   "outputs": [],
   "source": []
  }
 ],
 "metadata": {
  "kernelspec": {
   "display_name": "Python 3 (ipykernel)",
   "language": "python",
   "name": "python3"
  },
  "language_info": {
   "codemirror_mode": {
    "name": "ipython",
    "version": 3
   },
   "file_extension": ".py",
   "mimetype": "text/x-python",
   "name": "python",
   "nbconvert_exporter": "python",
   "pygments_lexer": "ipython3",
   "version": "3.10.4"
  }
 },
 "nbformat": 4,
 "nbformat_minor": 5
}
